{
 "cells": [
  {
   "cell_type": "markdown",
   "id": "f95e1511-b03d-41ce-bb38-477903ac3fa7",
   "metadata": {},
   "source": [
    "Data Science Tools and Ecosystem\n",
    "In this notebook, Data Science Tools and Ecosystem are summarized.\n",
    "Some of the popular languages that Data Scientists use are:\n",
    "1) R\n",
    "2) Python\n",
    "3) SQL\n",
    "4) JAVA\n",
    "5) MATPLOT"
   ]
  },
  {
   "cell_type": "markdown",
   "id": "a27d6e8d-3c38-4dba-bcec-bc38d4f1275c",
   "metadata": {},
   "source": [
    "Some of the commonly used libraries used by Data Scientists include:\n",
    "1) Pandas\n",
    "2) Numpy\n",
    "3) ggplot2\n",
    "4) caret"
   ]
  },
  {
   "cell_type": "raw",
   "id": "a07f0d3e-068b-4293-bef5-ee47c6ba4b27",
   "metadata": {},
   "source": [
    "Data Science Tools\n",
    "1) Jupyter Notebook\n",
    "2) RStudio\n",
    "3) Google Colab"
   ]
  },
  {
   "cell_type": "code",
   "execution_count": 11,
   "id": "fa9e6897-d775-4389-8724-896c03f2d3a5",
   "metadata": {},
   "outputs": [
    {
     "name": "stdout",
     "output_type": "stream",
     "text": [
      "8\n",
      "6\n",
      "42\n"
     ]
    }
   ],
   "source": [
    "# Below are a few examples of evaluating arithmetic expressions in Python\n",
    "# Addition\n",
    "result = 5 + 3  \n",
    "print(result) \n",
    "# Subtraction\n",
    "result = 10 - 4  \n",
    "print(result)  \n",
    "\n",
    "# Multiplication\n",
    "result = 6 * 7  \n",
    "print(result)  "
   ]
  },
  {
   "cell_type": "code",
   "execution_count": 12,
   "id": "f20e3029-5d42-4624-9331-1ed83f422b23",
   "metadata": {},
   "outputs": [
    {
     "data": {
      "text/plain": [
       "17"
      ]
     },
     "execution_count": 12,
     "metadata": {},
     "output_type": "execute_result"
    }
   ],
   "source": [
    "# This is a simple arithmetic expression to multiply and then add integers \n",
    "(3*4)+5"
   ]
  },
  {
   "cell_type": "code",
   "execution_count": 13,
   "id": "c8846c1f-068c-4484-8332-a772e7cf887d",
   "metadata": {},
   "outputs": [
    {
     "name": "stdout",
     "output_type": "stream",
     "text": [
      "3.3333333333333335\n"
     ]
    }
   ],
   "source": [
    "# This will convert 200 minutes to hours by diving by 60.\n",
    "\n",
    "minutes = 200\n",
    "hours = minutes / 60 \n",
    "print(hours)  \n"
   ]
  },
  {
   "cell_type": "markdown",
   "id": "dd717e11-884b-4669-a63a-a6867b1bbca4",
   "metadata": {},
   "source": [
    "Objectives\n",
    "\n",
    "* List popular languages for data science\n",
    "* Data Science Tools and Ecosystem\n",
    "* Commonly used libraries used by Data Scientists"
   ]
  },
  {
   "cell_type": "markdown",
   "id": "a6fb27f2-101e-4bbd-9d52-5d665a679f4b",
   "metadata": {},
   "source": [
    "## Author \n",
    "Silpa Ramachandran"
   ]
  }
 ],
 "metadata": {
  "kernelspec": {
   "display_name": "Python 3.10 (TensorFlow)",
   "language": "python",
   "name": "tensorflow_env"
  },
  "language_info": {
   "codemirror_mode": {
    "name": "ipython",
    "version": 3
   },
   "file_extension": ".py",
   "mimetype": "text/x-python",
   "name": "python",
   "nbconvert_exporter": "python",
   "pygments_lexer": "ipython3",
   "version": "3.10.0"
  }
 },
 "nbformat": 4,
 "nbformat_minor": 5
}
